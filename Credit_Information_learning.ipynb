{
  "nbformat": 4,
  "nbformat_minor": 0,
  "metadata": {
    "colab": {
      "provenance": [],
      "authorship_tag": "ABX9TyNxgjaUXhXAylWbD+lfSAp2",
      "include_colab_link": true
    },
    "kernelspec": {
      "name": "python3",
      "display_name": "Python 3"
    },
    "language_info": {
      "name": "python"
    }
  },
  "cells": [
    {
      "cell_type": "markdown",
      "metadata": {
        "id": "view-in-github",
        "colab_type": "text"
      },
      "source": [
        "<a href=\"https://colab.research.google.com/github/ismael-rtellez/Learning_about_Credit_Information/blob/main/Credit_Information_learning.ipynb\" target=\"_parent\"><img src=\"https://colab.research.google.com/assets/colab-badge.svg\" alt=\"Open In Colab\"/></a>"
      ]
    },
    {
      "cell_type": "markdown",
      "source": [
        "## **Perform machine learning on something close to real data**\n",
        "\n",
        "I'm going to perform using a home credit dataset from kaggle"
      ],
      "metadata": {
        "id": "o0rQ-f_71HyQ"
      }
    },
    {
      "cell_type": "markdown",
      "source": [
        "### Problem 1: Corfirmation of competition contents\n",
        "\n",
        "*  **What to learn:** The transaction information of the clients\n",
        "*  **What to predict:** The reapyment abilities\n",
        "*  **Submission file:** For each SK_ID_CURR in the test set, you must predict a probability for the TARGET variable. The file should contain a header and have the following format:\n",
        "```\n",
        "100001, 0.1\n",
        "100005, 0.9\n",
        "100013, 0.2\n",
        "ect.\n",
        "```\n",
        "*  **What kind of index value will the submitted items be evaluated?:** Submissions are evaluated on area under the ROC curve between the predicted probability and the observed target.\n"
      ],
      "metadata": {
        "id": "rTHBlRcvr9GM"
      }
    },
    {
      "cell_type": "markdown",
      "source": [
        "### Problem 2: Learning and Verification"
      ],
      "metadata": {
        "id": "dCdC9qyltiIT"
      }
    },
    {
      "cell_type": "code",
      "source": [
        "import pandas as pd\n",
        "from sklearn.preprocessing import StandardScaler\n",
        "from sklearn.model_selection import train_test_split\n",
        "from sklearn.metrics import accuracy_score, roc_auc_score\n",
        "\n",
        "# Loading csv\n",
        "df = pd.read_csv('application_train.csv')\n",
        "\n",
        "# cleaning the empty data\n",
        "df_clean = df.dropna()\n",
        "\n",
        "categorical_features = df_clean.select_dtypes('object').columns.tolist()\n",
        "\n",
        "# Separating variables\n",
        "X = df_clean.drop(columns=['TARGET'])\n",
        "y = df_clean['TARGET']"
      ],
      "metadata": {
        "id": "V6mBHCp7toMr"
      },
      "execution_count": 1,
      "outputs": []
    },
    {
      "cell_type": "code",
      "source": [
        "!pip install category-encoders"
      ],
      "metadata": {
        "colab": {
          "base_uri": "https://localhost:8080/"
        },
        "id": "341EBF2cxLvd",
        "outputId": "1b4daeb9-9f7c-4894-c26d-011d76358af3"
      },
      "execution_count": 4,
      "outputs": [
        {
          "output_type": "stream",
          "name": "stdout",
          "text": [
            "Requirement already satisfied: category-encoders in /usr/local/lib/python3.11/dist-packages (2.8.1)\n",
            "Requirement already satisfied: numpy>=1.14.0 in /usr/local/lib/python3.11/dist-packages (from category-encoders) (2.0.2)\n",
            "Requirement already satisfied: pandas>=1.0.5 in /usr/local/lib/python3.11/dist-packages (from category-encoders) (2.2.2)\n",
            "Requirement already satisfied: patsy>=0.5.1 in /usr/local/lib/python3.11/dist-packages (from category-encoders) (1.0.1)\n",
            "Requirement already satisfied: scikit-learn>=1.6.0 in /usr/local/lib/python3.11/dist-packages (from category-encoders) (1.6.1)\n",
            "Requirement already satisfied: scipy>=1.0.0 in /usr/local/lib/python3.11/dist-packages (from category-encoders) (1.16.0)\n",
            "Requirement already satisfied: statsmodels>=0.9.0 in /usr/local/lib/python3.11/dist-packages (from category-encoders) (0.14.5)\n",
            "Requirement already satisfied: python-dateutil>=2.8.2 in /usr/local/lib/python3.11/dist-packages (from pandas>=1.0.5->category-encoders) (2.9.0.post0)\n",
            "Requirement already satisfied: pytz>=2020.1 in /usr/local/lib/python3.11/dist-packages (from pandas>=1.0.5->category-encoders) (2025.2)\n",
            "Requirement already satisfied: tzdata>=2022.7 in /usr/local/lib/python3.11/dist-packages (from pandas>=1.0.5->category-encoders) (2025.2)\n",
            "Requirement already satisfied: joblib>=1.2.0 in /usr/local/lib/python3.11/dist-packages (from scikit-learn>=1.6.0->category-encoders) (1.5.1)\n",
            "Requirement already satisfied: threadpoolctl>=3.1.0 in /usr/local/lib/python3.11/dist-packages (from scikit-learn>=1.6.0->category-encoders) (3.6.0)\n",
            "Requirement already satisfied: packaging>=21.3 in /usr/local/lib/python3.11/dist-packages (from statsmodels>=0.9.0->category-encoders) (25.0)\n",
            "Requirement already satisfied: six>=1.5 in /usr/local/lib/python3.11/dist-packages (from python-dateutil>=2.8.2->pandas>=1.0.5->category-encoders) (1.17.0)\n"
          ]
        }
      ]
    },
    {
      "cell_type": "code",
      "source": [
        "from category_encoders import CountEncoder\n",
        "# Encoding values\n",
        "X = CountEncoder(cols=categorical_features).fit_transform(X)"
      ],
      "metadata": {
        "id": "gDlDBllSzi6y"
      },
      "execution_count": 5,
      "outputs": []
    },
    {
      "cell_type": "code",
      "source": [
        "# Splitting the data in train and test\n",
        "X_train, X_test, y_train, y_test =train_test_split(X, y, test_size=0.25, random_state=42)\n",
        "\n",
        "# Standardizing\n",
        "scaler = StandardScaler()\n",
        "scaler.fit(X_train)\n",
        "X_train_scaled = scaler.transform(X_train)\n",
        "X_test_scaled = scaler.transform(X_test)\n",
        "\n",
        "# Fitting data\n",
        "from lightgbm import LGBMClassifier\n",
        "\n",
        "reg = LGBMClassifier(random_state=5)\n",
        "reg.fit(X_train_scaled, y_train)\n",
        "\n",
        "# Predict\n",
        "reg_predict = reg.predict(X_test_scaled)\n",
        "\n",
        "print(\"ACC: \", accuracy_score(y_true=y_test, y_pred=reg_predict))\n",
        "print(\"ROC: \", roc_auc_score(y_test, reg_predict))"
      ],
      "metadata": {
        "colab": {
          "base_uri": "https://localhost:8080/"
        },
        "id": "7wRi0-tsz0X0",
        "outputId": "d3fddd52-7c1e-458f-fa95-651cb10e0cbb"
      },
      "execution_count": 5,
      "outputs": [
        {
          "output_type": "stream",
          "name": "stdout",
          "text": [
            "[LightGBM] [Info] Number of positive: 407, number of negative: 6044\n",
            "[LightGBM] [Info] Auto-choosing row-wise multi-threading, the overhead of testing was 0.006073 seconds.\n",
            "You can set `force_row_wise=true` to remove the overhead.\n",
            "And if memory is not enough, you can set `force_col_wise=true`.\n",
            "[LightGBM] [Info] Total Bins 10556\n",
            "[LightGBM] [Info] Number of data points in the train set: 6451, number of used features: 109\n",
            "[LightGBM] [Info] [binary:BoostFromScore]: pavg=0.063091 -> initscore=-2.698008\n",
            "[LightGBM] [Info] Start training from score -2.698008\n",
            "ACC:  0.9432821943282195\n",
            "ROC:  0.49926181102362205\n"
          ]
        },
        {
          "output_type": "stream",
          "name": "stderr",
          "text": [
            "/usr/local/lib/python3.11/dist-packages/sklearn/utils/validation.py:2739: UserWarning: X does not have valid feature names, but LGBMClassifier was fitted with feature names\n",
            "  warnings.warn(\n"
          ]
        }
      ]
    },
    {
      "cell_type": "markdown",
      "source": [
        "**Accuracy** is very high which is a good indication"
      ],
      "metadata": {
        "id": "_phTkgZD2JJS"
      }
    },
    {
      "cell_type": "markdown",
      "source": [
        "### Problem 3: Estimation for test data"
      ],
      "metadata": {
        "id": "nUm0b-Tl2Utn"
      }
    },
    {
      "cell_type": "code",
      "source": [
        "# Loading csv\n",
        "df_test = pd.read_csv('application_test.csv')\n",
        "\n",
        "# Cleaning the dataset\n",
        "df_test_clean = df_test.dropna(axis=0)\n",
        "\n",
        "# Separating variables\n",
        "test_X = X = CountEncoder(cols=categorical_features).fit_transform(df_test)\n",
        "\n",
        "# Standardizing\n",
        "test_scaler = StandardScaler()\n",
        "test_X_test_scaled = scaler.fit_transform(test_X)\n",
        "\n",
        "# Predict\n",
        "test_reg_predict = reg.predict(test_X_test_scaled)\n",
        "\n",
        "#print(\"ACC: \", accuracy_score(y_true=y_test, y_pred=reg_predict))\n",
        "#print(\"ROC: \", roc_auc_score(y_test, reg_predict))\n",
        "\n",
        "kgl_submission = pd.concat([df_test['SK_ID_CURR'], pd.Series(test_reg_predict, name='TARGET')], axis=1)\n",
        "kgl_submission.to_csv('kggl_submission.csv', index=False)"
      ],
      "metadata": {
        "colab": {
          "base_uri": "https://localhost:8080/"
        },
        "id": "lHZFf2ix2aJ3",
        "outputId": "697edbc0-0e16-491f-d9b4-90f01242747a"
      },
      "execution_count": 6,
      "outputs": [
        {
          "output_type": "stream",
          "name": "stderr",
          "text": [
            "/usr/local/lib/python3.11/dist-packages/sklearn/utils/validation.py:2739: UserWarning: X does not have valid feature names, but LGBMClassifier was fitted with feature names\n",
            "  warnings.warn(\n"
          ]
        }
      ]
    },
    {
      "cell_type": "code",
      "source": [
        "kgl_submission"
      ],
      "metadata": {
        "colab": {
          "base_uri": "https://localhost:8080/",
          "height": 423
        },
        "id": "ElO8B-ckAy4r",
        "outputId": "a0bd732c-3d7f-444f-fb3b-2397befec79b"
      },
      "execution_count": 7,
      "outputs": [
        {
          "output_type": "execute_result",
          "data": {
            "text/plain": [
              "       SK_ID_CURR  TARGET\n",
              "0          100001       0\n",
              "1          100005       0\n",
              "2          100013       0\n",
              "3          100028       0\n",
              "4          100038       0\n",
              "...           ...     ...\n",
              "48739      456221       0\n",
              "48740      456222       0\n",
              "48741      456223       0\n",
              "48742      456224       0\n",
              "48743      456250       0\n",
              "\n",
              "[48744 rows x 2 columns]"
            ],
            "text/html": [
              "\n",
              "  <div id=\"df-01c6306d-96ef-4617-839d-99f7dfa2818e\" class=\"colab-df-container\">\n",
              "    <div>\n",
              "<style scoped>\n",
              "    .dataframe tbody tr th:only-of-type {\n",
              "        vertical-align: middle;\n",
              "    }\n",
              "\n",
              "    .dataframe tbody tr th {\n",
              "        vertical-align: top;\n",
              "    }\n",
              "\n",
              "    .dataframe thead th {\n",
              "        text-align: right;\n",
              "    }\n",
              "</style>\n",
              "<table border=\"1\" class=\"dataframe\">\n",
              "  <thead>\n",
              "    <tr style=\"text-align: right;\">\n",
              "      <th></th>\n",
              "      <th>SK_ID_CURR</th>\n",
              "      <th>TARGET</th>\n",
              "    </tr>\n",
              "  </thead>\n",
              "  <tbody>\n",
              "    <tr>\n",
              "      <th>0</th>\n",
              "      <td>100001</td>\n",
              "      <td>0</td>\n",
              "    </tr>\n",
              "    <tr>\n",
              "      <th>1</th>\n",
              "      <td>100005</td>\n",
              "      <td>0</td>\n",
              "    </tr>\n",
              "    <tr>\n",
              "      <th>2</th>\n",
              "      <td>100013</td>\n",
              "      <td>0</td>\n",
              "    </tr>\n",
              "    <tr>\n",
              "      <th>3</th>\n",
              "      <td>100028</td>\n",
              "      <td>0</td>\n",
              "    </tr>\n",
              "    <tr>\n",
              "      <th>4</th>\n",
              "      <td>100038</td>\n",
              "      <td>0</td>\n",
              "    </tr>\n",
              "    <tr>\n",
              "      <th>...</th>\n",
              "      <td>...</td>\n",
              "      <td>...</td>\n",
              "    </tr>\n",
              "    <tr>\n",
              "      <th>48739</th>\n",
              "      <td>456221</td>\n",
              "      <td>0</td>\n",
              "    </tr>\n",
              "    <tr>\n",
              "      <th>48740</th>\n",
              "      <td>456222</td>\n",
              "      <td>0</td>\n",
              "    </tr>\n",
              "    <tr>\n",
              "      <th>48741</th>\n",
              "      <td>456223</td>\n",
              "      <td>0</td>\n",
              "    </tr>\n",
              "    <tr>\n",
              "      <th>48742</th>\n",
              "      <td>456224</td>\n",
              "      <td>0</td>\n",
              "    </tr>\n",
              "    <tr>\n",
              "      <th>48743</th>\n",
              "      <td>456250</td>\n",
              "      <td>0</td>\n",
              "    </tr>\n",
              "  </tbody>\n",
              "</table>\n",
              "<p>48744 rows × 2 columns</p>\n",
              "</div>\n",
              "    <div class=\"colab-df-buttons\">\n",
              "\n",
              "  <div class=\"colab-df-container\">\n",
              "    <button class=\"colab-df-convert\" onclick=\"convertToInteractive('df-01c6306d-96ef-4617-839d-99f7dfa2818e')\"\n",
              "            title=\"Convert this dataframe to an interactive table.\"\n",
              "            style=\"display:none;\">\n",
              "\n",
              "  <svg xmlns=\"http://www.w3.org/2000/svg\" height=\"24px\" viewBox=\"0 -960 960 960\">\n",
              "    <path d=\"M120-120v-720h720v720H120Zm60-500h600v-160H180v160Zm220 220h160v-160H400v160Zm0 220h160v-160H400v160ZM180-400h160v-160H180v160Zm440 0h160v-160H620v160ZM180-180h160v-160H180v160Zm440 0h160v-160H620v160Z\"/>\n",
              "  </svg>\n",
              "    </button>\n",
              "\n",
              "  <style>\n",
              "    .colab-df-container {\n",
              "      display:flex;\n",
              "      gap: 12px;\n",
              "    }\n",
              "\n",
              "    .colab-df-convert {\n",
              "      background-color: #E8F0FE;\n",
              "      border: none;\n",
              "      border-radius: 50%;\n",
              "      cursor: pointer;\n",
              "      display: none;\n",
              "      fill: #1967D2;\n",
              "      height: 32px;\n",
              "      padding: 0 0 0 0;\n",
              "      width: 32px;\n",
              "    }\n",
              "\n",
              "    .colab-df-convert:hover {\n",
              "      background-color: #E2EBFA;\n",
              "      box-shadow: 0px 1px 2px rgba(60, 64, 67, 0.3), 0px 1px 3px 1px rgba(60, 64, 67, 0.15);\n",
              "      fill: #174EA6;\n",
              "    }\n",
              "\n",
              "    .colab-df-buttons div {\n",
              "      margin-bottom: 4px;\n",
              "    }\n",
              "\n",
              "    [theme=dark] .colab-df-convert {\n",
              "      background-color: #3B4455;\n",
              "      fill: #D2E3FC;\n",
              "    }\n",
              "\n",
              "    [theme=dark] .colab-df-convert:hover {\n",
              "      background-color: #434B5C;\n",
              "      box-shadow: 0px 1px 3px 1px rgba(0, 0, 0, 0.15);\n",
              "      filter: drop-shadow(0px 1px 2px rgba(0, 0, 0, 0.3));\n",
              "      fill: #FFFFFF;\n",
              "    }\n",
              "  </style>\n",
              "\n",
              "    <script>\n",
              "      const buttonEl =\n",
              "        document.querySelector('#df-01c6306d-96ef-4617-839d-99f7dfa2818e button.colab-df-convert');\n",
              "      buttonEl.style.display =\n",
              "        google.colab.kernel.accessAllowed ? 'block' : 'none';\n",
              "\n",
              "      async function convertToInteractive(key) {\n",
              "        const element = document.querySelector('#df-01c6306d-96ef-4617-839d-99f7dfa2818e');\n",
              "        const dataTable =\n",
              "          await google.colab.kernel.invokeFunction('convertToInteractive',\n",
              "                                                    [key], {});\n",
              "        if (!dataTable) return;\n",
              "\n",
              "        const docLinkHtml = 'Like what you see? Visit the ' +\n",
              "          '<a target=\"_blank\" href=https://colab.research.google.com/notebooks/data_table.ipynb>data table notebook</a>'\n",
              "          + ' to learn more about interactive tables.';\n",
              "        element.innerHTML = '';\n",
              "        dataTable['output_type'] = 'display_data';\n",
              "        await google.colab.output.renderOutput(dataTable, element);\n",
              "        const docLink = document.createElement('div');\n",
              "        docLink.innerHTML = docLinkHtml;\n",
              "        element.appendChild(docLink);\n",
              "      }\n",
              "    </script>\n",
              "  </div>\n",
              "\n",
              "\n",
              "    <div id=\"df-37d5112b-e6e5-48bf-a162-0045a72f7c2c\">\n",
              "      <button class=\"colab-df-quickchart\" onclick=\"quickchart('df-37d5112b-e6e5-48bf-a162-0045a72f7c2c')\"\n",
              "                title=\"Suggest charts\"\n",
              "                style=\"display:none;\">\n",
              "\n",
              "<svg xmlns=\"http://www.w3.org/2000/svg\" height=\"24px\"viewBox=\"0 0 24 24\"\n",
              "     width=\"24px\">\n",
              "    <g>\n",
              "        <path d=\"M19 3H5c-1.1 0-2 .9-2 2v14c0 1.1.9 2 2 2h14c1.1 0 2-.9 2-2V5c0-1.1-.9-2-2-2zM9 17H7v-7h2v7zm4 0h-2V7h2v10zm4 0h-2v-4h2v4z\"/>\n",
              "    </g>\n",
              "</svg>\n",
              "      </button>\n",
              "\n",
              "<style>\n",
              "  .colab-df-quickchart {\n",
              "      --bg-color: #E8F0FE;\n",
              "      --fill-color: #1967D2;\n",
              "      --hover-bg-color: #E2EBFA;\n",
              "      --hover-fill-color: #174EA6;\n",
              "      --disabled-fill-color: #AAA;\n",
              "      --disabled-bg-color: #DDD;\n",
              "  }\n",
              "\n",
              "  [theme=dark] .colab-df-quickchart {\n",
              "      --bg-color: #3B4455;\n",
              "      --fill-color: #D2E3FC;\n",
              "      --hover-bg-color: #434B5C;\n",
              "      --hover-fill-color: #FFFFFF;\n",
              "      --disabled-bg-color: #3B4455;\n",
              "      --disabled-fill-color: #666;\n",
              "  }\n",
              "\n",
              "  .colab-df-quickchart {\n",
              "    background-color: var(--bg-color);\n",
              "    border: none;\n",
              "    border-radius: 50%;\n",
              "    cursor: pointer;\n",
              "    display: none;\n",
              "    fill: var(--fill-color);\n",
              "    height: 32px;\n",
              "    padding: 0;\n",
              "    width: 32px;\n",
              "  }\n",
              "\n",
              "  .colab-df-quickchart:hover {\n",
              "    background-color: var(--hover-bg-color);\n",
              "    box-shadow: 0 1px 2px rgba(60, 64, 67, 0.3), 0 1px 3px 1px rgba(60, 64, 67, 0.15);\n",
              "    fill: var(--button-hover-fill-color);\n",
              "  }\n",
              "\n",
              "  .colab-df-quickchart-complete:disabled,\n",
              "  .colab-df-quickchart-complete:disabled:hover {\n",
              "    background-color: var(--disabled-bg-color);\n",
              "    fill: var(--disabled-fill-color);\n",
              "    box-shadow: none;\n",
              "  }\n",
              "\n",
              "  .colab-df-spinner {\n",
              "    border: 2px solid var(--fill-color);\n",
              "    border-color: transparent;\n",
              "    border-bottom-color: var(--fill-color);\n",
              "    animation:\n",
              "      spin 1s steps(1) infinite;\n",
              "  }\n",
              "\n",
              "  @keyframes spin {\n",
              "    0% {\n",
              "      border-color: transparent;\n",
              "      border-bottom-color: var(--fill-color);\n",
              "      border-left-color: var(--fill-color);\n",
              "    }\n",
              "    20% {\n",
              "      border-color: transparent;\n",
              "      border-left-color: var(--fill-color);\n",
              "      border-top-color: var(--fill-color);\n",
              "    }\n",
              "    30% {\n",
              "      border-color: transparent;\n",
              "      border-left-color: var(--fill-color);\n",
              "      border-top-color: var(--fill-color);\n",
              "      border-right-color: var(--fill-color);\n",
              "    }\n",
              "    40% {\n",
              "      border-color: transparent;\n",
              "      border-right-color: var(--fill-color);\n",
              "      border-top-color: var(--fill-color);\n",
              "    }\n",
              "    60% {\n",
              "      border-color: transparent;\n",
              "      border-right-color: var(--fill-color);\n",
              "    }\n",
              "    80% {\n",
              "      border-color: transparent;\n",
              "      border-right-color: var(--fill-color);\n",
              "      border-bottom-color: var(--fill-color);\n",
              "    }\n",
              "    90% {\n",
              "      border-color: transparent;\n",
              "      border-bottom-color: var(--fill-color);\n",
              "    }\n",
              "  }\n",
              "</style>\n",
              "\n",
              "      <script>\n",
              "        async function quickchart(key) {\n",
              "          const quickchartButtonEl =\n",
              "            document.querySelector('#' + key + ' button');\n",
              "          quickchartButtonEl.disabled = true;  // To prevent multiple clicks.\n",
              "          quickchartButtonEl.classList.add('colab-df-spinner');\n",
              "          try {\n",
              "            const charts = await google.colab.kernel.invokeFunction(\n",
              "                'suggestCharts', [key], {});\n",
              "          } catch (error) {\n",
              "            console.error('Error during call to suggestCharts:', error);\n",
              "          }\n",
              "          quickchartButtonEl.classList.remove('colab-df-spinner');\n",
              "          quickchartButtonEl.classList.add('colab-df-quickchart-complete');\n",
              "        }\n",
              "        (() => {\n",
              "          let quickchartButtonEl =\n",
              "            document.querySelector('#df-37d5112b-e6e5-48bf-a162-0045a72f7c2c button');\n",
              "          quickchartButtonEl.style.display =\n",
              "            google.colab.kernel.accessAllowed ? 'block' : 'none';\n",
              "        })();\n",
              "      </script>\n",
              "    </div>\n",
              "\n",
              "  <div id=\"id_ae8fcfd7-6ace-4e0a-9263-2c42c7a77d43\">\n",
              "    <style>\n",
              "      .colab-df-generate {\n",
              "        background-color: #E8F0FE;\n",
              "        border: none;\n",
              "        border-radius: 50%;\n",
              "        cursor: pointer;\n",
              "        display: none;\n",
              "        fill: #1967D2;\n",
              "        height: 32px;\n",
              "        padding: 0 0 0 0;\n",
              "        width: 32px;\n",
              "      }\n",
              "\n",
              "      .colab-df-generate:hover {\n",
              "        background-color: #E2EBFA;\n",
              "        box-shadow: 0px 1px 2px rgba(60, 64, 67, 0.3), 0px 1px 3px 1px rgba(60, 64, 67, 0.15);\n",
              "        fill: #174EA6;\n",
              "      }\n",
              "\n",
              "      [theme=dark] .colab-df-generate {\n",
              "        background-color: #3B4455;\n",
              "        fill: #D2E3FC;\n",
              "      }\n",
              "\n",
              "      [theme=dark] .colab-df-generate:hover {\n",
              "        background-color: #434B5C;\n",
              "        box-shadow: 0px 1px 3px 1px rgba(0, 0, 0, 0.15);\n",
              "        filter: drop-shadow(0px 1px 2px rgba(0, 0, 0, 0.3));\n",
              "        fill: #FFFFFF;\n",
              "      }\n",
              "    </style>\n",
              "    <button class=\"colab-df-generate\" onclick=\"generateWithVariable('kgl_submission')\"\n",
              "            title=\"Generate code using this dataframe.\"\n",
              "            style=\"display:none;\">\n",
              "\n",
              "  <svg xmlns=\"http://www.w3.org/2000/svg\" height=\"24px\"viewBox=\"0 0 24 24\"\n",
              "       width=\"24px\">\n",
              "    <path d=\"M7,19H8.4L18.45,9,17,7.55,7,17.6ZM5,21V16.75L18.45,3.32a2,2,0,0,1,2.83,0l1.4,1.43a1.91,1.91,0,0,1,.58,1.4,1.91,1.91,0,0,1-.58,1.4L9.25,21ZM18.45,9,17,7.55Zm-12,3A5.31,5.31,0,0,0,4.9,8.1,5.31,5.31,0,0,0,1,6.5,5.31,5.31,0,0,0,4.9,4.9,5.31,5.31,0,0,0,6.5,1,5.31,5.31,0,0,0,8.1,4.9,5.31,5.31,0,0,0,12,6.5,5.46,5.46,0,0,0,6.5,12Z\"/>\n",
              "  </svg>\n",
              "    </button>\n",
              "    <script>\n",
              "      (() => {\n",
              "      const buttonEl =\n",
              "        document.querySelector('#id_ae8fcfd7-6ace-4e0a-9263-2c42c7a77d43 button.colab-df-generate');\n",
              "      buttonEl.style.display =\n",
              "        google.colab.kernel.accessAllowed ? 'block' : 'none';\n",
              "\n",
              "      buttonEl.onclick = () => {\n",
              "        google.colab.notebook.generateWithVariable('kgl_submission');\n",
              "      }\n",
              "      })();\n",
              "    </script>\n",
              "  </div>\n",
              "\n",
              "    </div>\n",
              "  </div>\n"
            ],
            "application/vnd.google.colaboratory.intrinsic+json": {
              "type": "dataframe",
              "variable_name": "kgl_submission",
              "summary": "{\n  \"name\": \"kgl_submission\",\n  \"rows\": 48744,\n  \"fields\": [\n    {\n      \"column\": \"SK_ID_CURR\",\n      \"properties\": {\n        \"dtype\": \"number\",\n        \"std\": 103169,\n        \"min\": 100001,\n        \"max\": 456250,\n        \"num_unique_values\": 48744,\n        \"samples\": [\n          208550,\n          173779,\n          365820\n        ],\n        \"semantic_type\": \"\",\n        \"description\": \"\"\n      }\n    },\n    {\n      \"column\": \"TARGET\",\n      \"properties\": {\n        \"dtype\": \"number\",\n        \"std\": 0,\n        \"min\": 0,\n        \"max\": 1,\n        \"num_unique_values\": 2,\n        \"samples\": [\n          1,\n          0\n        ],\n        \"semantic_type\": \"\",\n        \"description\": \"\"\n      }\n    }\n  ]\n}"
            }
          },
          "metadata": {},
          "execution_count": 7
        }
      ]
    },
    {
      "cell_type": "markdown",
      "source": [
        "### Problem 4: Based on the baseline model, we will make various improvements to the input feature quantities to improve accuracy"
      ],
      "metadata": {
        "id": "Jc560ewmDRkV"
      }
    },
    {
      "cell_type": "code",
      "source": [
        "# Cleaning dataset of the empty values\n",
        "clean_df = df.dropna()\n",
        "# Separate\n",
        "X4 = clean_df.drop(columns=['TARGET'])\n",
        "y4 = clean_df['TARGET']"
      ],
      "metadata": {
        "id": "MZT052ThEHeC"
      },
      "execution_count": 2,
      "outputs": []
    },
    {
      "cell_type": "code",
      "source": [
        "# imputation\n",
        "import numpy as np\n",
        "from sklearn.impute import SimpleImputer\n",
        "from sklearn.metrics import accuracy_score\n",
        "\n",
        "# pattern 1\n",
        "imp_mean = SimpleImputer(strategy='mean')\n",
        "# select only numerical columns\n",
        "X_numerical = X4.select_dtypes(include=np.number)\n",
        "# drop the missing values - apply imputer to nunmerical data\n",
        "imp_X_numerical = imp_mean.fit_transform(X_numerical)\n",
        "\n",
        "# splitting the data into training and test\n",
        "X_train1, X_test1, y_train1, y_test1 = train_test_split(imp_X_numerical, y4, test_size=0.25, random_state=42)\n",
        "\n",
        "# standardizing\n",
        "scaler = StandardScaler()\n",
        "scaler.fit(X_train1)\n",
        "X_train_scaled1 = scaler.transform(X_train1)\n",
        "X_test_scaled1 = scaler.transform(X_test1)\n",
        "\n",
        "# fitting\n",
        "from lightgbm import LGBMClassifier\n",
        "lgbm = LGBMClassifier(random_state=5)\n",
        "lgb = lgbm.fit(X_train_scaled1, y_train1)\n",
        "\n",
        "# predicting\n",
        "reg_pred1 = lgb.predict(X_test_scaled1)\n",
        "\n",
        "print(\"Accuracy: \", accuracy_score(y_test1, reg_pred1))"
      ],
      "metadata": {
        "colab": {
          "base_uri": "https://localhost:8080/"
        },
        "id": "Hhg-WKmdEqzN",
        "outputId": "4a682a71-dbde-4bb1-f3d6-7e898c1084aa"
      },
      "execution_count": 9,
      "outputs": [
        {
          "output_type": "stream",
          "name": "stdout",
          "text": [
            "[LightGBM] [Info] Number of positive: 407, number of negative: 6044\n",
            "[LightGBM] [Info] Auto-choosing row-wise multi-threading, the overhead of testing was 0.003135 seconds.\n",
            "You can set `force_row_wise=true` to remove the overhead.\n",
            "And if memory is not enough, you can set `force_col_wise=true`.\n",
            "[LightGBM] [Info] Total Bins 10422\n",
            "[LightGBM] [Info] Number of data points in the train set: 6451, number of used features: 94\n",
            "[LightGBM] [Info] [binary:BoostFromScore]: pavg=0.063091 -> initscore=-2.698008\n",
            "[LightGBM] [Info] Start training from score -2.698008\n",
            "Accuracy:  0.9428172942817294\n"
          ]
        },
        {
          "output_type": "stream",
          "name": "stderr",
          "text": [
            "/usr/local/lib/python3.11/dist-packages/sklearn/utils/validation.py:2739: UserWarning: X does not have valid feature names, but LGBMClassifier was fitted with feature names\n",
            "  warnings.warn(\n"
          ]
        }
      ]
    },
    {
      "cell_type": "code",
      "source": [
        "# imputation\n",
        "import numpy as np\n",
        "from sklearn.impute import SimpleImputer\n",
        "from sklearn.metrics import accuracy_score\n",
        "from sklearn.preprocessing import OneHotEncoder\n",
        "import pandas as pd\n",
        "\n",
        "# separate numerical and categorical\n",
        "X_numerical2 = X4.select_dtypes(include=np.number)\n",
        "X_categorical2 = X4.select_dtypes(exclude=np.number)\n",
        "\n",
        "# impute numerical, median strategy\n",
        "imp_median   = SimpleImputer(strategy='median')\n",
        "imp_X_numerical2 = imp_median.fit_transform(X_numerical2)\n",
        "\n",
        "# impute categorical, using the most frequent strategy\n",
        "imp_most_freq = SimpleImputer(strategy='most_frequent')\n",
        "imp_X_categorical2 = imp_most_freq.fit_transform(X_categorical2)\n",
        "\n",
        "# One hot encoding\n",
        "enc1 = OneHotEncoder(handle_unknown='ignore', sparse_output=False)  # Use sparse_output=false for dense array output\n",
        "enc_imp_X_categorical = enc1.fit_transform(imp_X_categorical2)\n",
        "\n",
        "# Combine the imputed numerical data and the one-hot encoded categorical data\n",
        "imp_X1 = np.hstack((imp_X_numerical2, enc_imp_X_categorical))\n",
        "\n",
        "# splitting the data into training and test\n",
        "X_train2, X_test2, y_train2, y_test2 = train_test_split(imp_X1, y4, test_size=0.25, random_state=42)\n",
        "\n",
        "# standardizing\n",
        "scaler = StandardScaler()\n",
        "scaler.fit(X_train2)\n",
        "X_train_scaled2 = scaler.transform(X_train2)\n",
        "X_test_scaled2 = scaler.transform(X_test2)\n",
        "\n",
        "# fitting\n",
        "from lightgbm import LGBMClassifier\n",
        "lgbm1 = LGBMClassifier(random_state=5)\n",
        "lgb1 = lgbm1.fit(X_train_scaled2, y_train2)\n",
        "\n",
        "# predicting\n",
        "reg_pred2 = lgb1.predict(X_test_scaled2)\n",
        "\n",
        "print(\"Accuracy: \", accuracy_score(y_test2, reg_pred2))"
      ],
      "metadata": {
        "colab": {
          "base_uri": "https://localhost:8080/"
        },
        "id": "mxKrPBVATia0",
        "outputId": "62f1e4f8-0f54-4826-8d41-7182878ba338"
      },
      "execution_count": 12,
      "outputs": [
        {
          "output_type": "stream",
          "name": "stdout",
          "text": [
            "[LightGBM] [Info] Number of positive: 407, number of negative: 6044\n",
            "[LightGBM] [Info] Auto-choosing row-wise multi-threading, the overhead of testing was 0.008371 seconds.\n",
            "You can set `force_row_wise=true` to remove the overhead.\n",
            "And if memory is not enough, you can set `force_col_wise=true`.\n",
            "[LightGBM] [Info] Total Bins 10749\n",
            "[LightGBM] [Info] Number of data points in the train set: 6451, number of used features: 203\n",
            "[LightGBM] [Info] [binary:BoostFromScore]: pavg=0.063091 -> initscore=-2.698008\n",
            "[LightGBM] [Info] Start training from score -2.698008\n",
            "Accuracy:  0.9442119944211994\n"
          ]
        },
        {
          "output_type": "stream",
          "name": "stderr",
          "text": [
            "/usr/local/lib/python3.11/dist-packages/sklearn/utils/validation.py:2739: UserWarning: X does not have valid feature names, but LGBMClassifier was fitted with feature names\n",
            "  warnings.warn(\n"
          ]
        }
      ]
    },
    {
      "cell_type": "code",
      "source": [
        "#I've change parts due to that the RAM not have capable of support so many dates that appear to use toarray()\n",
        "\n",
        "import numpy as np\n",
        "from sklearn.impute import SimpleImputer\n",
        "from sklearn.metrics import accuracy_score\n",
        "from sklearn.preprocessing import OneHotEncoder\n",
        "import pandas as pd\n",
        "imp_mf = SimpleImputer(strategy='most_frequent')\n",
        "\n",
        "# drop the missing values\n",
        "imp_X2 = imp_mf.fit_transform(X4)\n",
        "\n",
        "# One hot encoding\n",
        "from sklearn.preprocessing import OneHotEncoder\n",
        "enc2 = OneHotEncoder(handle_unknown='ignore', sparse_output=True)\n",
        "enc_imp_X_2 = enc2.fit_transform(imp_X2)\n",
        "\n",
        "# splitting the data into training and test\n",
        "X_train3, X_test3, y_train3, y_test3 = train_test_split(enc_imp_X_2, y4, test_size=0.25, random_state=42)\n",
        "# standardizing\n",
        "scaler = StandardScaler(with_mean=False)\n",
        "scaler.fit(X_train3)\n",
        "X_train_scaled3 = scaler.transform(X_train3)\n",
        "X_test_scaled3 = scaler.transform(X_test3)\n",
        "# fitting\n",
        "from lightgbm import LGBMClassifier\n",
        "lgbm2 = LGBMClassifier(random_state=5)\n",
        "lgb2 = lgbm2.fit(X_train_scaled3, y_train3)\n",
        "# predicting\n",
        "reg_pred3 = lgb2.predict(X_test_scaled3)\n",
        "\n",
        "print(\"Accuracy: \", accuracy_score(y_test3, reg_pred3))"
      ],
      "metadata": {
        "colab": {
          "base_uri": "https://localhost:8080/"
        },
        "id": "eRNkO4M2FWrV",
        "outputId": "215d2801-a112-4b92-9ea5-e822e0ef38c2"
      },
      "execution_count": 6,
      "outputs": [
        {
          "output_type": "stream",
          "name": "stdout",
          "text": [
            "[LightGBM] [Info] Number of positive: 407, number of negative: 6044\n",
            "[LightGBM] [Info] Auto-choosing row-wise multi-threading, the overhead of testing was 0.040690 seconds.\n",
            "You can set `force_row_wise=true` to remove the overhead.\n",
            "And if memory is not enough, you can set `force_col_wise=true`.\n",
            "[LightGBM] [Info] Total Bins 3502\n",
            "[LightGBM] [Info] Number of data points in the train set: 6451, number of used features: 1751\n",
            "[LightGBM] [Info] [binary:BoostFromScore]: pavg=0.063091 -> initscore=-2.698008\n",
            "[LightGBM] [Info] Start training from score -2.698008\n",
            "Accuracy:  0.9437470943747094\n"
          ]
        },
        {
          "output_type": "stream",
          "name": "stderr",
          "text": [
            "/usr/local/lib/python3.11/dist-packages/sklearn/utils/validation.py:2739: UserWarning: X does not have valid feature names, but LGBMClassifier was fitted with feature names\n",
            "  warnings.warn(\n"
          ]
        }
      ]
    },
    {
      "cell_type": "code",
      "source": [
        "#I've change parts due to that the RAM not have capable of support so many dates that appear to use toarray()\n",
        "\n",
        "imp_cnst = SimpleImputer(strategy='constant')\n",
        "# drop the missing values\n",
        "imp_X3 = imp_cnst.fit_transform(X4)\n",
        "\n",
        "# One hot encoding\n",
        "from sklearn.preprocessing import OneHotEncoder\n",
        "enc3 = OneHotEncoder(handle_unknown='ignore', sparse_output=True)\n",
        "enc_imp_X_3 = enc3.fit_transform(imp_X3)\n",
        "\n",
        "# splitting the data into training and test\n",
        "X_train4, X_test4, y_train4, y_test4 = train_test_split(enc_imp_X_3, y4, test_size=0.25, random_state=42)\n",
        "# standardizing\n",
        "scaler = StandardScaler(with_mean=False)\n",
        "scaler.fit(X_train4)\n",
        "X_train_scaled4 = scaler.transform(X_train4)\n",
        "X_test_scaled4 = scaler.transform(X_test4)\n",
        "# fitting\n",
        "from lightgbm import LGBMClassifier\n",
        "lgbm3 = LGBMClassifier(random_state=5)\n",
        "lgb3 = lgbm3.fit(X_train_scaled4, y_train4)\n",
        "# predicting\n",
        "reg_pred4 = lgb3.predict(X_test_scaled4)\n",
        "\n",
        "print(\"Accuracy: \", accuracy_score(y_test4, reg_pred4))"
      ],
      "metadata": {
        "colab": {
          "base_uri": "https://localhost:8080/"
        },
        "id": "TmC5Tjo1D-0s",
        "outputId": "369b68fb-4201-4575-c8c3-97c981d43db0"
      },
      "execution_count": 8,
      "outputs": [
        {
          "output_type": "stream",
          "name": "stdout",
          "text": [
            "[LightGBM] [Info] Number of positive: 407, number of negative: 6044\n",
            "[LightGBM] [Info] Auto-choosing row-wise multi-threading, the overhead of testing was 0.040071 seconds.\n",
            "You can set `force_row_wise=true` to remove the overhead.\n",
            "And if memory is not enough, you can set `force_col_wise=true`.\n",
            "[LightGBM] [Info] Total Bins 3502\n",
            "[LightGBM] [Info] Number of data points in the train set: 6451, number of used features: 1751\n",
            "[LightGBM] [Info] [binary:BoostFromScore]: pavg=0.063091 -> initscore=-2.698008\n",
            "[LightGBM] [Info] Start training from score -2.698008\n",
            "Accuracy:  0.9437470943747094\n"
          ]
        },
        {
          "output_type": "stream",
          "name": "stderr",
          "text": [
            "/usr/local/lib/python3.11/dist-packages/sklearn/utils/validation.py:2739: UserWarning: X does not have valid feature names, but LGBMClassifier was fitted with feature names\n",
            "  warnings.warn(\n"
          ]
        }
      ]
    },
    {
      "cell_type": "code",
      "source": [
        "# Using Ridge Classifier\n",
        "from sklearn.linear_model import RidgeClassifier\n",
        "\n",
        "model = RidgeClassifier()\n",
        "model.fit(X_train2, y_train2)\n",
        "y_pred_rgd = model.predict(X_test2)\n",
        "\n",
        "print(\"Accuracy:\", accuracy_score(y_test2, y_pred_rgd))"
      ],
      "metadata": {
        "colab": {
          "base_uri": "https://localhost:8080/"
        },
        "id": "mOqD6P7gfFEZ",
        "outputId": "8524a0cf-1545-4b26-dfae-284d579867c0"
      },
      "execution_count": 13,
      "outputs": [
        {
          "output_type": "stream",
          "name": "stdout",
          "text": [
            "Accuracy: 0.9446768944676894\n"
          ]
        }
      ]
    },
    {
      "cell_type": "code",
      "source": [
        "#using Linear SVC\n",
        "\n",
        "from sklearn.svm import LinearSVC\n",
        "\n",
        "model = LinearSVC(max_iter=1000, random_state=5)\n",
        "model.fit(X_train2, y_train2)\n",
        "y_pred_svc = model.predict(X_test2)\n",
        "\n",
        "print(\"Accuracy:\", accuracy_score(y_test2, y_pred_svc))"
      ],
      "metadata": {
        "colab": {
          "base_uri": "https://localhost:8080/"
        },
        "id": "W-BbRBXkfFnQ",
        "outputId": "0eb890c3-753b-47b3-b308-49cc04203f63"
      },
      "execution_count": 14,
      "outputs": [
        {
          "output_type": "stream",
          "name": "stdout",
          "text": [
            "Accuracy: 0.9446768944676894\n"
          ]
        }
      ]
    },
    {
      "cell_type": "markdown",
      "source": [
        "For the future engineering,\n",
        "I used imputation and hot encoding technique because they are more useful, and from my observation, for all partners of you can use in simple imputer the accuracy is still high and the stays constant, and even if changed model of prediction to other the difference is minimum in relation to model used before."
      ],
      "metadata": {
        "id": "y5jh9IsJhg3S"
      }
    }
  ]
}